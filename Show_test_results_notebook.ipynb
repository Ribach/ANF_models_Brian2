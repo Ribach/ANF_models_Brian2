{
 "cells": [
  {
   "cell_type": "code",
   "execution_count": 4,
   "metadata": {},
   "outputs": [],
   "source": [
    "##### choose model of:\n",
    "# rattay_01\n",
    "# frijns_94\n",
    "# frijns_05\n",
    "# smit_09\n",
    "# smit_10\n",
    "# imennov_09\n",
    "# negm_14\n",
    "\n",
    "model_name = \"smit_10\""
   ]
  },
  {
   "cell_type": "code",
   "execution_count": 5,
   "metadata": {},
   "outputs": [
    {
     "data": {
      "text/html": [
       "<script>\n",
       "code_show=true; \n",
       "function code_toggle() {\n",
       " if (code_show){\n",
       " $('div.input').hide();\n",
       " } else {\n",
       " $('div.input').show();\n",
       " }\n",
       " code_show = !code_show\n",
       "} \n",
       "$( document ).ready(code_toggle);\n",
       "</script>\n",
       "Show/hide the code by clicking <a href=\"javascript:code_toggle()\">here</a>."
      ],
      "text/plain": [
       "<IPython.core.display.HTML object>"
      ]
     },
     "execution_count": 5,
     "metadata": {},
     "output_type": "execute_result"
    }
   ],
   "source": [
    "from IPython.display import HTML\n",
    "\n",
    "HTML('''<script>\n",
    "code_show=true; \n",
    "function code_toggle() {\n",
    " if (code_show){\n",
    " $('div.input').hide();\n",
    " } else {\n",
    " $('div.input').show();\n",
    " }\n",
    " code_show = !code_show\n",
    "} \n",
    "$( document ).ready(code_toggle);\n",
    "</script>\n",
    "Show/hide the code by clicking <a href=\"javascript:code_toggle()\">here</a>.''')"
   ]
  },
  {
   "cell_type": "code",
   "execution_count": 6,
   "metadata": {},
   "outputs": [],
   "source": [
    "%matplotlib inline\n",
    "\n",
    "##### don't show warnings\n",
    "import warnings\n",
    "warnings.simplefilter(action='ignore', category=FutureWarning)\n",
    "\n",
    "##### import packages\n",
    "from brian2 import *\n",
    "from brian2.units.constants import zero_celsius, gas_constant as R, faraday_constant as F\n",
    "import numpy as np\n",
    "import pandas as pd\n",
    "pd.set_option('display.width', 115)\n",
    "import matplotlib.pyplot as plt\n",
    "import os\n",
    "from IPython.display import Markdown as md\n",
    "\n",
    "##### sets working directory\n",
    "os.chdir(\"C:/Users/Richard/Documents/Studium/Master Elektrotechnik/Semester 4/Python/Models Brian2\")\n",
    "\n",
    "##### import models\n",
    "import models.Rattay_2001 as rattay_01\n",
    "import models.Frijns_1994 as frijns_94\n",
    "import models.Briaire_2005 as briaire_05\n",
    "import models.Smit_2009 as smit_09\n",
    "import models.Smit_2010 as smit_10\n",
    "import models.Imennov_2009 as imennov_09\n",
    "import models.Negm_2014 as negm_14\n",
    "\n",
    "##### makes code faster and prevents warning\n",
    "prefs.codegen.target = \"numpy\"\n",
    "\n",
    "# =============================================================================\n",
    "# Load data\n",
    "# =============================================================================\n",
    "model = eval(model_name)\n",
    "\n",
    "##### load dataframes for tables\n",
    "strength_duration_data = pd.read_csv(\"test_battery_results/{}/Strength_duration_data {}.csv\".format(model.display_name,model.display_name))\n",
    "threshold_table = pd.read_csv(\"test_battery_results/{}/Threshold_table {}.csv\".format(model.display_name,model.display_name))\n",
    "relative_spreads = pd.read_csv(\"test_battery_results/{}/Relative_spreads {}.csv\".format(model.display_name,model.display_name))\n",
    "conduction_velocity_table = pd.read_csv(\"test_battery_results/{}/Conduction_velocity_table {}.csv\".format(model.display_name,model.display_name))\n",
    "single_node_response_deterministic  = pd.read_csv(\"test_battery_results/{}/Single_node_response_deterministic {}.csv\".format(model.display_name,model.display_name))\n",
    "single_node_response_stochastic = pd.read_csv(\"test_battery_results/{}/Single_node_response_stochastic {}.csv\".format(model.display_name,model.display_name))\n",
    "refractory_table = pd.read_csv(\"test_battery_results/{}/Refractory_table {}.csv\".format(model.display_name,model.display_name))\n",
    "\n",
    "##### get plot links\n",
    "strength_duration_curve_link = f\"test_battery_results/{model.display_name}/Strength_duration_curve {model.display_name}.png\"\n",
    "relative_spread_plot_link = f\"test_battery_results/{model.display_name}/Relative_spreads_plot {model.display_name}.png\"\n",
    "single_node_response_link = f\"test_battery_results/{model.display_name}/Single_node_response {model.display_name}.png\"\n",
    "refractory_curve_link = f\"test_battery_results/{model.display_name}/Refractory_curve {model.display_name}.png\"\n",
    "post_stimulus_time_histogram_link = f\"test_battery_results/{model.display_name}/PSTH {model.display_name}.png\"\n",
    "\n",
    "# =============================================================================\n",
    "# Add experimental results to tables\n",
    "# =============================================================================\n",
    "##### Strength duration data\n",
    "strength_duration_data = strength_duration_data.transpose()\n",
    "strength_duration_data = strength_duration_data.rename(index = str, columns={0:\"model\"})\n",
    "strength_duration_data[\"model\"] = [\"%.3g\" %strength_duration_data[\"model\"][i] for i in range(0,2)]\n",
    "strength_duration_data[\"Van den Honert and Stypulkowski 1984\"] = [\"95.8\", \"247\"]\n",
    "\n",
    "##### Relative spread of thresholds\n",
    "relative_spreads = relative_spreads.rename(index = str, columns={\"relative spread\":\"model\"})\n",
    "relative_spreads[\"experiments\"] = [\"6.3%\",\"5-10%\",\"12%\",\"11%\"]\n",
    "relative_spreads[\"reference\"] = [\"Miller et al. 1999\",\"Dynes 1996\",\"Javel et al. 1987\",\"Javel et al. 1987\"]\n",
    "relative_spreads = relative_spreads.set_index([\"phase duration (us)\",\"pulse form\"])\n",
    "\n",
    "##### Conduction velocity\n",
    "conduction_velocity_table = conduction_velocity_table.transpose()\n",
    "conduction_velocity_table = conduction_velocity_table.rename(index = str, columns={0:\"model\"})\n",
    "if hasattr(model, \"index_soma\"):\n",
    "    conduction_velocity_table[\"Hursh 1939\"] = [\"-\",\"-\",\"6\",\"-\",\"-\",\"-\"]\n",
    "    if model.dendrite_outer_diameter < 12*um:\n",
    "        dendrite_ratio = 4.6\n",
    "    else:\n",
    "        dendrite_ratio = 5.66\n",
    "    conduction_velocity_table[\"Boyd and Kalu 1979\"] = [\"-\",\"-\",\"{}\".format(dendrite_ratio),\"-\",\"-\",\"-\"]\n",
    "    conduction_velocity_table[\"Czèh et al 1976\"] = [\"-\",\"-\",\"-\",\"v_ax = 0.9*v_den-6.9*m/s\",\"-\",\"-\"]\n",
    "\n",
    "else:\n",
    "    conduction_velocity_table[\"Hursh 1939\"] = [\"-\",\"-\",\"6\"]\n",
    "    if model.fiber_outer_diameter < 12*um:\n",
    "        dendrite_ratio = 4.6\n",
    "    else:\n",
    "        dendrite_ratio = 5.66\n",
    "    conduction_velocity_table[\"Boyd and Kalu 1979\"] = [\"-\",\"-\",\"{}\".format(dendrite_ratio)]\n",
    "\n",
    "##### Latency and jitter\n",
    "latency = single_node_response_deterministic[[\"phase duration (us)\", \"pulse form\", \"amplitude level\", \"latency (us)\"]]\n",
    "jitter = single_node_response_stochastic[[\"phase duration (us)\", \"pulse form\", \"amplitude level\", \"jitter (us)\"]]\n",
    "latency_jitter = pd.merge(single_node_response_deterministic, single_node_response_stochastic, on=[\"phase duration (us)\",\"pulse form\",\"amplitude level\"], how=\"left\")\n",
    "\n",
    "latency_jitter = pd.melt(latency_jitter, id_vars=[\"phase duration (us)\", \"pulse form\", \"amplitude level\"], value_vars=[\"latency (us)\",  \"jitter (us)\"])\n",
    "latency_jitter[\"value\"] = [\"%.3g\" %latency_jitter[\"value\"][i] for i in range(0,latency_jitter.shape[0])]\n",
    "latency_jitter[\"phase duration (us)\"] = [\"%g us\" %latency_jitter[\"phase duration (us)\"][i] for i in range(0,latency_jitter.shape[0])]\n",
    "latency_jitter = latency_jitter.rename(index = str, columns={\"phase duration (us)\":\"phase duration\"})\n",
    "\n",
    "latency_jitter_th = latency_jitter[latency_jitter[\"amplitude level\"] == \"1*threshold\"]\n",
    "latency_jitter_th = latency_jitter_th.rename(index = str, columns={\"value\":\"model (threshold)\"})\n",
    "latency_jitter_th = latency_jitter_th.drop(columns = [\"amplitude level\"])\n",
    "\n",
    "latency_jitter_2th = latency_jitter[latency_jitter[\"amplitude level\"] == \"2*threshold\"]\n",
    "latency_jitter_2th = latency_jitter_2th.rename(index = str, columns={\"value\":\"model (2*threshold)\"})\n",
    "latency_jitter_2th = latency_jitter_2th.drop(columns = [\"amplitude level\"])\n",
    "\n",
    "latency_jitter = latency_jitter.drop(columns = [\"amplitude level\", \"value\"]).drop_duplicates()\n",
    "\n",
    "latency_jitter = pd.merge(latency_jitter, latency_jitter_th, on=[\"phase duration\",\"pulse form\",\"variable\"], how = 'left')\n",
    "latency_jitter = pd.merge(latency_jitter, latency_jitter_2th, on=[\"phase duration\",\"pulse form\",\"variable\"], how = 'left')\n",
    "\n",
    "latency_jitter = latency_jitter.sort_values(by=[\"pulse form\", \"phase duration\"], ascending = [False, True])\n",
    "\n",
    "latency_jitter[\"Miller et al. 1999\"] = [\"650\", \"100\", \"-\", \"-\", \"-\", \"-\", \"-\", \"-\"]\n",
    "latency_jitter[\"Van den Honert and Stypulkowski 1984 (threshold)\"] = [\"-\", \"-\", \"-\", \"-\", \"685\", \"352\", \"-\", \"-\"]\n",
    "latency_jitter[\"Van den Honert and Stypulkowski 1984 (2*threshold)\"] = [\"-\", \"-\", \"-\", \"-\", \"352\", \"8\", \"-\", \"-\"]\n",
    "latency_jitter[\"Hartmann and al. 1984\"] = [\"-\", \"-\", \"-\", \"-\", \"-\", \"-\", \"300-400\", \"-\"]\n",
    "latency_jitter[\"Cartee et al. 2000 (threshold)\"] = [\"-\", \"-\", \"440\", \"80\", \"-\", \"-\", \"-\", \"-\"]\n",
    "\n",
    "latency_jitter = latency_jitter.rename(index = str, columns={\"variable\":\"property\"})\n",
    "latency_jitter = latency_jitter.set_index([\"phase duration\",\"pulse form\", \"property\"])\n",
    "\n",
    "##### AP shape\n",
    "AP_shape = single_node_response_deterministic[[\"AP height (mV)\", \"rise time (us)\", \"fall time (us)\", \"AP duration (us)\"]].iloc[[5]].transpose()\n",
    "AP_shape = AP_shape.rename(index = str, columns={5:\"model\"})\n",
    "\n",
    "t_rise = round(-0.000625*conduction_velocity_table[\"model\"].iloc[[0]] + 0.14, 3).tolist()[0]\n",
    "t_fall = round(-0.002083*conduction_velocity_table[\"model\"].iloc[[0]] + 0.3933, 3).tolist()[0]\n",
    "AP_duration = t_rise + t_fall\n",
    "AP_shape[\"Paintal 1966\"] = [\"-\", int(t_rise*1e3), int(t_fall*1e3), int(AP_duration*1e3)]\n",
    "\n",
    "##### Refractory periods\n",
    "absolute_refractory_periods = refractory_table.drop(columns = [\"relative refractory period (ms)\"])\n",
    "absolute_refractory_periods = absolute_refractory_periods.rename(index = str, columns={\"absolute refractory period (us)\":\"ARP model (us)\"})\n",
    "absolute_refractory_periods[\"ARP model (us)\"] = absolute_refractory_periods[\"ARP model (us)\"].astype(int)\n",
    "absolute_refractory_periods[\"ARP Experiments (us)\"] = [\"334\",\"300\",\"500-700\",\"400-500\",\"-\"]\n",
    "absolute_refractory_periods[\"reference\"] = [\"Miller et al. 2001\",\"Stypulkowski and Van den Honert 1984\",\"Dynes 1996\",\"Brown and Abbas 1990\", \"-\"]\n",
    "absolute_refractory_periods = absolute_refractory_periods[absolute_refractory_periods[\"ARP Experiments (us)\"] != \"-\"]\n",
    "absolute_refractory_periods = absolute_refractory_periods.set_index([\"phase duration (us)\",\"pulse form\"])\n",
    "\n",
    "relative_refractory_periods = refractory_table.drop(columns = [\"absolute refractory period (us)\"])\n",
    "relative_refractory_periods = relative_refractory_periods.rename(index = str, columns={\"relative refractory period (ms)\":\"RRP model (ms)\"})\n",
    "relative_refractory_periods[\"RRP Experiments (ms)\"] = [\"-\",\"3-4; 4-5\",\"5\",\"-\",\"5\"]\n",
    "relative_refractory_periods[\"reference\"] = [\"-\",\"Stypulkowski and Van den Honert 1984; Cartee et al. 2000\",\"Dynes 1996\",\"-\", \"Hartmann et al. 1984\"]\n",
    "relative_refractory_periods = relative_refractory_periods[relative_refractory_periods[\"RRP Experiments (ms)\"] != \"-\"]\n",
    "relative_refractory_periods = relative_refractory_periods.set_index([\"phase duration (us)\",\"pulse form\"])\n"
   ]
  },
  {
   "cell_type": "code",
   "execution_count": 7,
   "metadata": {},
   "outputs": [
    {
     "data": {
      "text/markdown": [
       "# Smit et al. 2010: Test battery results"
      ],
      "text/plain": [
       "<IPython.core.display.Markdown object>"
      ]
     },
     "execution_count": 7,
     "metadata": {},
     "output_type": "execute_result"
    }
   ],
   "source": [
    "md(\"# %s: Test battery results\"%(model.display_name))"
   ]
  },
  {
   "cell_type": "markdown",
   "metadata": {},
   "source": [
    "## 1. Strength duration curve"
   ]
  },
  {
   "cell_type": "code",
   "execution_count": 8,
   "metadata": {},
   "outputs": [
    {
     "data": {
      "text/markdown": [
       "![title](test_battery_results/Smit et al. 2010/Strength_duration_curve Smit et al. 2010.png?arg)"
      ],
      "text/plain": [
       "<IPython.core.display.Markdown object>"
      ]
     },
     "execution_count": 8,
     "metadata": {},
     "output_type": "execute_result"
    }
   ],
   "source": [
    "md(\"![title](%s?arg)\"%(strength_duration_curve_link))"
   ]
  },
  {
   "cell_type": "code",
   "execution_count": 9,
   "metadata": {},
   "outputs": [
    {
     "data": {
      "text/html": [
       "<div>\n",
       "<style scoped>\n",
       "    .dataframe tbody tr th:only-of-type {\n",
       "        vertical-align: middle;\n",
       "    }\n",
       "\n",
       "    .dataframe tbody tr th {\n",
       "        vertical-align: top;\n",
       "    }\n",
       "\n",
       "    .dataframe thead th {\n",
       "        text-align: right;\n",
       "    }\n",
       "</style>\n",
       "<table border=\"1\" class=\"dataframe\">\n",
       "  <thead>\n",
       "    <tr style=\"text-align: right;\">\n",
       "      <th></th>\n",
       "      <th>model</th>\n",
       "      <th>Van den Honert and Stypulkowski 1984</th>\n",
       "    </tr>\n",
       "  </thead>\n",
       "  <tbody>\n",
       "    <tr>\n",
       "      <th>rheobase (uA)</th>\n",
       "      <td>0.152</td>\n",
       "      <td>95.8</td>\n",
       "    </tr>\n",
       "    <tr>\n",
       "      <th>chronaxie (us)</th>\n",
       "      <td>160</td>\n",
       "      <td>247</td>\n",
       "    </tr>\n",
       "  </tbody>\n",
       "</table>\n",
       "</div>"
      ],
      "text/plain": [
       "                model Van den Honert and Stypulkowski 1984\n",
       "rheobase (uA)   0.152                                 95.8\n",
       "chronaxie (us)    160                                  247"
      ]
     },
     "execution_count": 9,
     "metadata": {},
     "output_type": "execute_result"
    }
   ],
   "source": [
    "strength_duration_data"
   ]
  },
  {
   "cell_type": "markdown",
   "metadata": {},
   "source": [
    "## 2. Relative spread of thresholds"
   ]
  },
  {
   "cell_type": "code",
   "execution_count": 10,
   "metadata": {},
   "outputs": [
    {
     "data": {
      "text/markdown": [
       "![title](test_battery_results/Smit et al. 2010/Relative_spreads_plot Smit et al. 2010.png?arg)"
      ],
      "text/plain": [
       "<IPython.core.display.Markdown object>"
      ]
     },
     "execution_count": 10,
     "metadata": {},
     "output_type": "execute_result"
    }
   ],
   "source": [
    "md(\"![title](%s?arg)\"%(relative_spread_plot_link))"
   ]
  },
  {
   "cell_type": "code",
   "execution_count": 11,
   "metadata": {},
   "outputs": [
    {
     "data": {
      "text/html": [
       "<div>\n",
       "<style scoped>\n",
       "    .dataframe tbody tr th:only-of-type {\n",
       "        vertical-align: middle;\n",
       "    }\n",
       "\n",
       "    .dataframe tbody tr th {\n",
       "        vertical-align: top;\n",
       "    }\n",
       "\n",
       "    .dataframe thead th {\n",
       "        text-align: right;\n",
       "    }\n",
       "</style>\n",
       "<table border=\"1\" class=\"dataframe\">\n",
       "  <thead>\n",
       "    <tr style=\"text-align: right;\">\n",
       "      <th></th>\n",
       "      <th></th>\n",
       "      <th>model</th>\n",
       "      <th>experiments</th>\n",
       "      <th>reference</th>\n",
       "    </tr>\n",
       "    <tr>\n",
       "      <th>phase duration (us)</th>\n",
       "      <th>pulse form</th>\n",
       "      <th></th>\n",
       "      <th></th>\n",
       "      <th></th>\n",
       "    </tr>\n",
       "  </thead>\n",
       "  <tbody>\n",
       "    <tr>\n",
       "      <th>40</th>\n",
       "      <th>monophasic</th>\n",
       "      <td>10.66%</td>\n",
       "      <td>6.3%</td>\n",
       "      <td>Miller et al. 1999</td>\n",
       "    </tr>\n",
       "    <tr>\n",
       "      <th>100</th>\n",
       "      <th>monophasic</th>\n",
       "      <td>11.55%</td>\n",
       "      <td>5-10%</td>\n",
       "      <td>Dynes 1996</td>\n",
       "    </tr>\n",
       "    <tr>\n",
       "      <th>200</th>\n",
       "      <th>biphasic</th>\n",
       "      <td>14.42%</td>\n",
       "      <td>12%</td>\n",
       "      <td>Javel et al. 1987</td>\n",
       "    </tr>\n",
       "    <tr>\n",
       "      <th>400</th>\n",
       "      <th>biphasic</th>\n",
       "      <td>17.72%</td>\n",
       "      <td>11%</td>\n",
       "      <td>Javel et al. 1987</td>\n",
       "    </tr>\n",
       "  </tbody>\n",
       "</table>\n",
       "</div>"
      ],
      "text/plain": [
       "                                 model experiments           reference\n",
       "phase duration (us) pulse form                                        \n",
       "40                  monophasic  10.66%        6.3%  Miller et al. 1999\n",
       "100                 monophasic  11.55%       5-10%          Dynes 1996\n",
       "200                 biphasic    14.42%         12%   Javel et al. 1987\n",
       "400                 biphasic    17.72%         11%   Javel et al. 1987"
      ]
     },
     "execution_count": 11,
     "metadata": {},
     "output_type": "execute_result"
    }
   ],
   "source": [
    "relative_spreads"
   ]
  },
  {
   "cell_type": "markdown",
   "metadata": {},
   "source": [
    "## 3. Conduction velocity"
   ]
  },
  {
   "cell_type": "code",
   "execution_count": 12,
   "metadata": {},
   "outputs": [
    {
     "data": {
      "text/html": [
       "<div>\n",
       "<style scoped>\n",
       "    .dataframe tbody tr th:only-of-type {\n",
       "        vertical-align: middle;\n",
       "    }\n",
       "\n",
       "    .dataframe tbody tr th {\n",
       "        vertical-align: top;\n",
       "    }\n",
       "\n",
       "    .dataframe thead th {\n",
       "        text-align: right;\n",
       "    }\n",
       "</style>\n",
       "<table border=\"1\" class=\"dataframe\">\n",
       "  <thead>\n",
       "    <tr style=\"text-align: right;\">\n",
       "      <th></th>\n",
       "      <th>model</th>\n",
       "      <th>Hursh 1939</th>\n",
       "      <th>Boyd and Kalu 1979</th>\n",
       "      <th>Czèh et al 1976</th>\n",
       "    </tr>\n",
       "  </thead>\n",
       "  <tbody>\n",
       "    <tr>\n",
       "      <th>velocity dendrite (m/s)</th>\n",
       "      <td>11.833</td>\n",
       "      <td>-</td>\n",
       "      <td>-</td>\n",
       "      <td>-</td>\n",
       "    </tr>\n",
       "    <tr>\n",
       "      <th>outer diameter dendrite (um)</th>\n",
       "      <td>1.680</td>\n",
       "      <td>-</td>\n",
       "      <td>-</td>\n",
       "      <td>-</td>\n",
       "    </tr>\n",
       "    <tr>\n",
       "      <th>velocity/diameter dendrite</th>\n",
       "      <td>7.040</td>\n",
       "      <td>6</td>\n",
       "      <td>4.6</td>\n",
       "      <td>-</td>\n",
       "    </tr>\n",
       "    <tr>\n",
       "      <th>velocity axon (m/s)</th>\n",
       "      <td>12.229</td>\n",
       "      <td>-</td>\n",
       "      <td>-</td>\n",
       "      <td>v_ax = 0.9*v_den-6.9*m/s</td>\n",
       "    </tr>\n",
       "    <tr>\n",
       "      <th>outer diameter axon (um)</th>\n",
       "      <td>3.750</td>\n",
       "      <td>-</td>\n",
       "      <td>-</td>\n",
       "      <td>-</td>\n",
       "    </tr>\n",
       "    <tr>\n",
       "      <th>velocity/diameter axon</th>\n",
       "      <td>3.260</td>\n",
       "      <td>-</td>\n",
       "      <td>-</td>\n",
       "      <td>-</td>\n",
       "    </tr>\n",
       "  </tbody>\n",
       "</table>\n",
       "</div>"
      ],
      "text/plain": [
       "                               model Hursh 1939 Boyd and Kalu 1979           Czèh et al 1976\n",
       "velocity dendrite (m/s)       11.833          -                  -                         -\n",
       "outer diameter dendrite (um)   1.680          -                  -                         -\n",
       "velocity/diameter dendrite     7.040          6                4.6                         -\n",
       "velocity axon (m/s)           12.229          -                  -  v_ax = 0.9*v_den-6.9*m/s\n",
       "outer diameter axon (um)       3.750          -                  -                         -\n",
       "velocity/diameter axon         3.260          -                  -                         -"
      ]
     },
     "execution_count": 12,
     "metadata": {},
     "output_type": "execute_result"
    }
   ],
   "source": [
    "conduction_velocity_table"
   ]
  },
  {
   "cell_type": "markdown",
   "metadata": {},
   "source": [
    "## 4. Single node response properties"
   ]
  },
  {
   "cell_type": "code",
   "execution_count": 13,
   "metadata": {},
   "outputs": [
    {
     "data": {
      "text/markdown": [
       "![title](test_battery_results/Smit et al. 2010/Single_node_response Smit et al. 2010.png?arg)"
      ],
      "text/plain": [
       "<IPython.core.display.Markdown object>"
      ]
     },
     "execution_count": 13,
     "metadata": {},
     "output_type": "execute_result"
    }
   ],
   "source": [
    "md(\"![title](%s?arg)\"%(single_node_response_link))"
   ]
  },
  {
   "cell_type": "markdown",
   "metadata": {},
   "source": [
    "### 4.1 Action potential shape"
   ]
  },
  {
   "cell_type": "code",
   "execution_count": 14,
   "metadata": {},
   "outputs": [
    {
     "data": {
      "text/html": [
       "<div>\n",
       "<style scoped>\n",
       "    .dataframe tbody tr th:only-of-type {\n",
       "        vertical-align: middle;\n",
       "    }\n",
       "\n",
       "    .dataframe tbody tr th {\n",
       "        vertical-align: top;\n",
       "    }\n",
       "\n",
       "    .dataframe thead th {\n",
       "        text-align: right;\n",
       "    }\n",
       "</style>\n",
       "<table border=\"1\" class=\"dataframe\">\n",
       "  <thead>\n",
       "    <tr style=\"text-align: right;\">\n",
       "      <th></th>\n",
       "      <th>model</th>\n",
       "      <th>Paintal 1966</th>\n",
       "    </tr>\n",
       "  </thead>\n",
       "  <tbody>\n",
       "    <tr>\n",
       "      <th>AP height (mV)</th>\n",
       "      <td>134.0</td>\n",
       "      <td>-</td>\n",
       "    </tr>\n",
       "    <tr>\n",
       "      <th>rise time (us)</th>\n",
       "      <td>96.0</td>\n",
       "      <td>133</td>\n",
       "    </tr>\n",
       "    <tr>\n",
       "      <th>fall time (us)</th>\n",
       "      <td>1040.0</td>\n",
       "      <td>369</td>\n",
       "    </tr>\n",
       "    <tr>\n",
       "      <th>AP duration (us)</th>\n",
       "      <td>1140.0</td>\n",
       "      <td>502</td>\n",
       "    </tr>\n",
       "  </tbody>\n",
       "</table>\n",
       "</div>"
      ],
      "text/plain": [
       "                   model Paintal 1966\n",
       "AP height (mV)     134.0            -\n",
       "rise time (us)      96.0          133\n",
       "fall time (us)    1040.0          369\n",
       "AP duration (us)  1140.0          502"
      ]
     },
     "execution_count": 14,
     "metadata": {},
     "output_type": "execute_result"
    }
   ],
   "source": [
    "AP_shape"
   ]
  },
  {
   "cell_type": "markdown",
   "metadata": {},
   "source": [
    "### 4.2 Latency and jitter"
   ]
  },
  {
   "cell_type": "code",
   "execution_count": 15,
   "metadata": {},
   "outputs": [
    {
     "data": {
      "text/html": [
       "<div>\n",
       "<style scoped>\n",
       "    .dataframe tbody tr th:only-of-type {\n",
       "        vertical-align: middle;\n",
       "    }\n",
       "\n",
       "    .dataframe tbody tr th {\n",
       "        vertical-align: top;\n",
       "    }\n",
       "\n",
       "    .dataframe thead th {\n",
       "        text-align: right;\n",
       "    }\n",
       "</style>\n",
       "<table border=\"1\" class=\"dataframe\">\n",
       "  <thead>\n",
       "    <tr style=\"text-align: right;\">\n",
       "      <th></th>\n",
       "      <th></th>\n",
       "      <th></th>\n",
       "      <th>model (threshold)</th>\n",
       "      <th>model (2*threshold)</th>\n",
       "      <th>Miller et al. 1999</th>\n",
       "      <th>Van den Honert and Stypulkowski 1984 (threshold)</th>\n",
       "      <th>Van den Honert and Stypulkowski 1984 (2*threshold)</th>\n",
       "      <th>Hartmann and al. 1984</th>\n",
       "      <th>Cartee et al. 2000 (threshold)</th>\n",
       "    </tr>\n",
       "    <tr>\n",
       "      <th>phase duration</th>\n",
       "      <th>pulse form</th>\n",
       "      <th>property</th>\n",
       "      <th></th>\n",
       "      <th></th>\n",
       "      <th></th>\n",
       "      <th></th>\n",
       "      <th></th>\n",
       "      <th></th>\n",
       "      <th></th>\n",
       "    </tr>\n",
       "  </thead>\n",
       "  <tbody>\n",
       "    <tr>\n",
       "      <th rowspan=\"2\" valign=\"top\">100 us</th>\n",
       "      <th rowspan=\"2\" valign=\"top\">monophasic</th>\n",
       "      <th>latency (us)</th>\n",
       "      <td>nan</td>\n",
       "      <td>nan</td>\n",
       "      <td>650</td>\n",
       "      <td>-</td>\n",
       "      <td>-</td>\n",
       "      <td>-</td>\n",
       "      <td>-</td>\n",
       "    </tr>\n",
       "    <tr>\n",
       "      <th>jitter (us)</th>\n",
       "      <td>81.3</td>\n",
       "      <td>3.52</td>\n",
       "      <td>100</td>\n",
       "      <td>-</td>\n",
       "      <td>-</td>\n",
       "      <td>-</td>\n",
       "      <td>-</td>\n",
       "    </tr>\n",
       "    <tr>\n",
       "      <th rowspan=\"2\" valign=\"top\">40 us</th>\n",
       "      <th rowspan=\"2\" valign=\"top\">monophasic</th>\n",
       "      <th>latency (us)</th>\n",
       "      <td>nan</td>\n",
       "      <td>nan</td>\n",
       "      <td>-</td>\n",
       "      <td>-</td>\n",
       "      <td>-</td>\n",
       "      <td>-</td>\n",
       "      <td>440</td>\n",
       "    </tr>\n",
       "    <tr>\n",
       "      <th>jitter (us)</th>\n",
       "      <td>62.6</td>\n",
       "      <td>3.31</td>\n",
       "      <td>-</td>\n",
       "      <td>-</td>\n",
       "      <td>-</td>\n",
       "      <td>-</td>\n",
       "      <td>80</td>\n",
       "    </tr>\n",
       "    <tr>\n",
       "      <th rowspan=\"2\" valign=\"top\">50 us</th>\n",
       "      <th rowspan=\"2\" valign=\"top\">monophasic</th>\n",
       "      <th>latency (us)</th>\n",
       "      <td>nan</td>\n",
       "      <td>nan</td>\n",
       "      <td>-</td>\n",
       "      <td>685</td>\n",
       "      <td>352</td>\n",
       "      <td>-</td>\n",
       "      <td>-</td>\n",
       "    </tr>\n",
       "    <tr>\n",
       "      <th>jitter (us)</th>\n",
       "      <td>60.2</td>\n",
       "      <td>3.64</td>\n",
       "      <td>-</td>\n",
       "      <td>352</td>\n",
       "      <td>8</td>\n",
       "      <td>-</td>\n",
       "      <td>-</td>\n",
       "    </tr>\n",
       "    <tr>\n",
       "      <th rowspan=\"2\" valign=\"top\">200 us</th>\n",
       "      <th rowspan=\"2\" valign=\"top\">biphasic</th>\n",
       "      <th>latency (us)</th>\n",
       "      <td>nan</td>\n",
       "      <td>nan</td>\n",
       "      <td>-</td>\n",
       "      <td>-</td>\n",
       "      <td>-</td>\n",
       "      <td>300-400</td>\n",
       "      <td>-</td>\n",
       "    </tr>\n",
       "    <tr>\n",
       "      <th>jitter (us)</th>\n",
       "      <td>53.3</td>\n",
       "      <td>0.304</td>\n",
       "      <td>-</td>\n",
       "      <td>-</td>\n",
       "      <td>-</td>\n",
       "      <td>-</td>\n",
       "      <td>-</td>\n",
       "    </tr>\n",
       "  </tbody>\n",
       "</table>\n",
       "</div>"
      ],
      "text/plain": [
       "                                       model (threshold) model (2*threshold) Miller et al. 1999  \\\n",
       "phase duration pulse form property                                                                \n",
       "100 us         monophasic latency (us)               nan                 nan                650   \n",
       "                          jitter (us)               81.3                3.52                100   \n",
       "40 us          monophasic latency (us)               nan                 nan                  -   \n",
       "                          jitter (us)               62.6                3.31                  -   \n",
       "50 us          monophasic latency (us)               nan                 nan                  -   \n",
       "                          jitter (us)               60.2                3.64                  -   \n",
       "200 us         biphasic   latency (us)               nan                 nan                  -   \n",
       "                          jitter (us)               53.3               0.304                  -   \n",
       "\n",
       "                                       Van den Honert and Stypulkowski 1984 (threshold)  \\\n",
       "phase duration pulse form property                                                        \n",
       "100 us         monophasic latency (us)                                                -   \n",
       "                          jitter (us)                                                 -   \n",
       "40 us          monophasic latency (us)                                                -   \n",
       "                          jitter (us)                                                 -   \n",
       "50 us          monophasic latency (us)                                              685   \n",
       "                          jitter (us)                                               352   \n",
       "200 us         biphasic   latency (us)                                                -   \n",
       "                          jitter (us)                                                 -   \n",
       "\n",
       "                                       Van den Honert and Stypulkowski 1984 (2*threshold) Hartmann and al. 1984  \\\n",
       "phase duration pulse form property                                                                                \n",
       "100 us         monophasic latency (us)                                                  -                     -   \n",
       "                          jitter (us)                                                   -                     -   \n",
       "40 us          monophasic latency (us)                                                  -                     -   \n",
       "                          jitter (us)                                                   -                     -   \n",
       "50 us          monophasic latency (us)                                                352                     -   \n",
       "                          jitter (us)                                                   8                     -   \n",
       "200 us         biphasic   latency (us)                                                  -               300-400   \n",
       "                          jitter (us)                                                   -                     -   \n",
       "\n",
       "                                       Cartee et al. 2000 (threshold)  \n",
       "phase duration pulse form property                                     \n",
       "100 us         monophasic latency (us)                              -  \n",
       "                          jitter (us)                               -  \n",
       "40 us          monophasic latency (us)                            440  \n",
       "                          jitter (us)                              80  \n",
       "50 us          monophasic latency (us)                              -  \n",
       "                          jitter (us)                               -  \n",
       "200 us         biphasic   latency (us)                              -  \n",
       "                          jitter (us)                               -  "
      ]
     },
     "execution_count": 15,
     "metadata": {},
     "output_type": "execute_result"
    }
   ],
   "source": [
    "latency_jitter"
   ]
  },
  {
   "cell_type": "markdown",
   "metadata": {},
   "source": [
    "## 5. Recfractory properties"
   ]
  },
  {
   "cell_type": "code",
   "execution_count": 16,
   "metadata": {
    "scrolled": false
   },
   "outputs": [
    {
     "data": {
      "text/markdown": [
       "![title](test_battery_results/Smit et al. 2010/Refractory_curve Smit et al. 2010.png?arg)"
      ],
      "text/plain": [
       "<IPython.core.display.Markdown object>"
      ]
     },
     "execution_count": 16,
     "metadata": {},
     "output_type": "execute_result"
    }
   ],
   "source": [
    "md(\"![title](%s?arg)\"%(refractory_curve_link))"
   ]
  },
  {
   "cell_type": "markdown",
   "metadata": {},
   "source": [
    "### 5.1 Absolute refractory periods"
   ]
  },
  {
   "cell_type": "code",
   "execution_count": 17,
   "metadata": {},
   "outputs": [
    {
     "data": {
      "text/html": [
       "<div>\n",
       "<style scoped>\n",
       "    .dataframe tbody tr th:only-of-type {\n",
       "        vertical-align: middle;\n",
       "    }\n",
       "\n",
       "    .dataframe tbody tr th {\n",
       "        vertical-align: top;\n",
       "    }\n",
       "\n",
       "    .dataframe thead th {\n",
       "        text-align: right;\n",
       "    }\n",
       "</style>\n",
       "<table border=\"1\" class=\"dataframe\">\n",
       "  <thead>\n",
       "    <tr style=\"text-align: right;\">\n",
       "      <th></th>\n",
       "      <th></th>\n",
       "      <th>ARP model (us)</th>\n",
       "      <th>ARP Experiments (us)</th>\n",
       "      <th>reference</th>\n",
       "    </tr>\n",
       "    <tr>\n",
       "      <th>phase duration (us)</th>\n",
       "      <th>pulse form</th>\n",
       "      <th></th>\n",
       "      <th></th>\n",
       "      <th></th>\n",
       "    </tr>\n",
       "  </thead>\n",
       "  <tbody>\n",
       "    <tr>\n",
       "      <th>40</th>\n",
       "      <th>monophasic</th>\n",
       "      <td>1883</td>\n",
       "      <td>334</td>\n",
       "      <td>Miller et al. 2001</td>\n",
       "    </tr>\n",
       "    <tr>\n",
       "      <th>50</th>\n",
       "      <th>monophasic</th>\n",
       "      <td>1877</td>\n",
       "      <td>300</td>\n",
       "      <td>Stypulkowski and Van den Honert 1984</td>\n",
       "    </tr>\n",
       "    <tr>\n",
       "      <th>100</th>\n",
       "      <th>monophasic</th>\n",
       "      <td>1853</td>\n",
       "      <td>500-700</td>\n",
       "      <td>Dynes 1996</td>\n",
       "    </tr>\n",
       "    <tr>\n",
       "      <th>50</th>\n",
       "      <th>biphasic</th>\n",
       "      <td>1852</td>\n",
       "      <td>400-500</td>\n",
       "      <td>Brown and Abbas 1990</td>\n",
       "    </tr>\n",
       "  </tbody>\n",
       "</table>\n",
       "</div>"
      ],
      "text/plain": [
       "                                ARP model (us) ARP Experiments (us)                             reference\n",
       "phase duration (us) pulse form                                                                           \n",
       "40                  monophasic            1883                  334                    Miller et al. 2001\n",
       "50                  monophasic            1877                  300  Stypulkowski and Van den Honert 1984\n",
       "100                 monophasic            1853              500-700                            Dynes 1996\n",
       "50                  biphasic              1852              400-500                  Brown and Abbas 1990"
      ]
     },
     "execution_count": 17,
     "metadata": {},
     "output_type": "execute_result"
    }
   ],
   "source": [
    "absolute_refractory_periods"
   ]
  },
  {
   "cell_type": "markdown",
   "metadata": {},
   "source": [
    "### 5.2 Relative refractory periods"
   ]
  },
  {
   "cell_type": "code",
   "execution_count": 18,
   "metadata": {},
   "outputs": [
    {
     "data": {
      "text/html": [
       "<div>\n",
       "<style scoped>\n",
       "    .dataframe tbody tr th:only-of-type {\n",
       "        vertical-align: middle;\n",
       "    }\n",
       "\n",
       "    .dataframe tbody tr th {\n",
       "        vertical-align: top;\n",
       "    }\n",
       "\n",
       "    .dataframe thead th {\n",
       "        text-align: right;\n",
       "    }\n",
       "</style>\n",
       "<table border=\"1\" class=\"dataframe\">\n",
       "  <thead>\n",
       "    <tr style=\"text-align: right;\">\n",
       "      <th></th>\n",
       "      <th></th>\n",
       "      <th>RRP model (ms)</th>\n",
       "      <th>RRP Experiments (ms)</th>\n",
       "      <th>reference</th>\n",
       "    </tr>\n",
       "    <tr>\n",
       "      <th>phase duration (us)</th>\n",
       "      <th>pulse form</th>\n",
       "      <th></th>\n",
       "      <th></th>\n",
       "      <th></th>\n",
       "    </tr>\n",
       "  </thead>\n",
       "  <tbody>\n",
       "    <tr>\n",
       "      <th>50</th>\n",
       "      <th>monophasic</th>\n",
       "      <td>2.326</td>\n",
       "      <td>3-4; 4-5</td>\n",
       "      <td>Stypulkowski and Van den Honert 1984; Cartee e...</td>\n",
       "    </tr>\n",
       "    <tr>\n",
       "      <th>100</th>\n",
       "      <th>monophasic</th>\n",
       "      <td>2.287</td>\n",
       "      <td>5</td>\n",
       "      <td>Dynes 1996</td>\n",
       "    </tr>\n",
       "    <tr>\n",
       "      <th>200</th>\n",
       "      <th>biphasic</th>\n",
       "      <td>2.003</td>\n",
       "      <td>5</td>\n",
       "      <td>Hartmann et al. 1984</td>\n",
       "    </tr>\n",
       "  </tbody>\n",
       "</table>\n",
       "</div>"
      ],
      "text/plain": [
       "                                RRP model (ms) RRP Experiments (ms)  \\\n",
       "phase duration (us) pulse form                                        \n",
       "50                  monophasic           2.326             3-4; 4-5   \n",
       "100                 monophasic           2.287                    5   \n",
       "200                 biphasic             2.003                    5   \n",
       "\n",
       "                                                                        reference  \n",
       "phase duration (us) pulse form                                                     \n",
       "50                  monophasic  Stypulkowski and Van den Honert 1984; Cartee e...  \n",
       "100                 monophasic                                         Dynes 1996  \n",
       "200                 biphasic                                 Hartmann et al. 1984  "
      ]
     },
     "execution_count": 18,
     "metadata": {},
     "output_type": "execute_result"
    }
   ],
   "source": [
    "relative_refractory_periods"
   ]
  },
  {
   "cell_type": "markdown",
   "metadata": {},
   "source": [
    "## 6. Post-stimulus time histogramm"
   ]
  },
  {
   "cell_type": "code",
   "execution_count": 19,
   "metadata": {},
   "outputs": [
    {
     "data": {
      "text/markdown": [
       "![title](test_battery_results/Smit et al. 2010/PSTH Smit et al. 2010.png?arg)"
      ],
      "text/plain": [
       "<IPython.core.display.Markdown object>"
      ]
     },
     "execution_count": 19,
     "metadata": {},
     "output_type": "execute_result"
    }
   ],
   "source": [
    "md(\"![title](%s?arg)\"%(post_stimulus_time_histogram_link))"
   ]
  },
  {
   "cell_type": "code",
   "execution_count": 20,
   "metadata": {
    "scrolled": true
   },
   "outputs": [
    {
     "data": {
      "text/html": [
       "<style type=\"text/css\">\n",
       "table.dataframe td, table.dataframe th {\n",
       "    border-right: 1px  black solid !important;\n",
       "    text-align: center !important;\n",
       "    color: black !important;\n",
       "}"
      ],
      "text/plain": [
       "<IPython.core.display.HTML object>"
      ]
     },
     "metadata": {},
     "output_type": "display_data"
    }
   ],
   "source": [
    "%%HTML\n",
    "<style type=\"text/css\">\n",
    "table.dataframe td, table.dataframe th {\n",
    "    border-right: 1px  black solid !important;\n",
    "    text-align: center !important;\n",
    "    color: black !important;\n",
    "}"
   ]
  }
 ],
 "metadata": {
  "kernelspec": {
   "display_name": "Python 3",
   "language": "python",
   "name": "python3"
  },
  "language_info": {
   "codemirror_mode": {
    "name": "ipython",
    "version": 3
   },
   "file_extension": ".py",
   "mimetype": "text/x-python",
   "name": "python",
   "nbconvert_exporter": "python",
   "pygments_lexer": "ipython3",
   "version": "3.6.4"
  }
 },
 "nbformat": 4,
 "nbformat_minor": 2
}
