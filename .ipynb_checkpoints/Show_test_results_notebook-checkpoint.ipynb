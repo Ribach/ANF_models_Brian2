{
 "cells": [
  {
   "cell_type": "code",
   "execution_count": 227,
   "metadata": {},
   "outputs": [
    {
     "data": {
      "text/html": [
       "<script>\n",
       "code_show=true; \n",
       "function code_toggle() {\n",
       " if (code_show){\n",
       " $('div.input').hide();\n",
       " } else {\n",
       " $('div.input').show();\n",
       " }\n",
       " code_show = !code_show\n",
       "} \n",
       "$( document ).ready(code_toggle);\n",
       "</script>\n",
       "Show/hide the code by clicking <a href=\"javascript:code_toggle()\">here</a>."
      ],
      "text/plain": [
       "<IPython.core.display.HTML object>"
      ]
     },
     "execution_count": 227,
     "metadata": {},
     "output_type": "execute_result"
    }
   ],
   "source": [
    "from IPython.display import HTML\n",
    "\n",
    "HTML('''<script>\n",
    "code_show=true; \n",
    "function code_toggle() {\n",
    " if (code_show){\n",
    " $('div.input').hide();\n",
    " } else {\n",
    " $('div.input').show();\n",
    " }\n",
    " code_show = !code_show\n",
    "} \n",
    "$( document ).ready(code_toggle);\n",
    "</script>\n",
    "Show/hide the code by clicking <a href=\"javascript:code_toggle()\">here</a>.''')"
   ]
  },
  {
   "cell_type": "code",
   "execution_count": 228,
   "metadata": {},
   "outputs": [
    {
     "data": {
      "text/html": [
       "<style type=\"text/css\">\n",
       "table.dataframe td, table.dataframe th {\n",
       "    border-right: 1px  black solid !important;\n",
       "    text-align: center !important;\n",
       "  color: black !important;\n",
       "}"
      ],
      "text/plain": [
       "<IPython.core.display.HTML object>"
      ]
     },
     "metadata": {},
     "output_type": "display_data"
    }
   ],
   "source": [
    "%%HTML\n",
    "<style type=\"text/css\">\n",
    "table.dataframe td, table.dataframe th {\n",
    "    border-right: 1px  black solid !important;\n",
    "    text-align: center !important;\n",
    "  color: black !important;\n",
    "}"
   ]
  },
  {
   "cell_type": "code",
   "execution_count": 229,
   "metadata": {},
   "outputs": [],
   "source": [
    "%matplotlib inline\n",
    "\n",
    "##### don't show warnings\n",
    "import warnings\n",
    "warnings.simplefilter(action='ignore', category=FutureWarning)\n",
    "\n",
    "##### import packages\n",
    "from brian2 import *\n",
    "from brian2.units.constants import zero_celsius, gas_constant as R, faraday_constant as F\n",
    "import numpy as np\n",
    "import pandas as pd\n",
    "pd.set_option('display.width', 115)\n",
    "import matplotlib.pyplot as plt\n",
    "import os\n",
    "from IPython.display import Markdown as md\n",
    "\n",
    "##### sets working directory\n",
    "os.chdir(\"C:/Users/Richard/Documents/Studium/Master Elektrotechnik/Semester 4/Python/Models Brian2\")\n",
    "\n",
    "##### import models\n",
    "import models.Rattay_2001 as rattay_01\n",
    "import models.Frijns_1994 as frijns_94\n",
    "import models.Frijns_2005 as frijns_05\n",
    "import models.Smit_2009 as smit_09\n",
    "import models.Smit_2010 as smit_10\n",
    "import models.Imennov_2009 as imennov_09\n",
    "import models.Negm_2014 as negm_14\n",
    "\n",
    "##### makes code faster and prevents warning\n",
    "prefs.codegen.target = \"numpy\"\n",
    "\n",
    "# =============================================================================\n",
    "# Load data\n",
    "# =============================================================================\n",
    "##### choose model\n",
    "model = rattay_01\n",
    "\n",
    "##### load datasets\n",
    "strength_duration_data = pd.read_csv(f'test_battery_results/{model.display_name}/Strength_duration_data {model.display_name}.csv')\n",
    "threshold_table = pd.read_csv(f'test_battery_results/{model.display_name}/Threshold_table {model.display_name}.csv')\n",
    "relative_spreads = pd.read_csv(f'test_battery_results/{model.display_name}/Relative_spreads {model.display_name}.csv')\n",
    "conduction_velocity_table = pd.read_csv(f'test_battery_results/{model.display_name}/Conduction_velocity_table {model.display_name}.csv')\n",
    "node_response_data_summary = pd.read_csv(f'test_battery_results/{model.display_name}/Node_response_data_summary {model.display_name}.csv')\n",
    "refractory_table = pd.read_csv(f'test_battery_results/{model.display_name}/Refractory_table {model.display_name}.csv')\n",
    "\n",
    "##### get plot links\n",
    "strength_duration_curve_link = f\"test_battery_results/{model.display_name}/Strength_duration_curve {model.display_name}.png\"\n",
    "relative_spread_plot_link = f\"test_battery_results/{model.display_name}/Relative_spreads_plot {model.display_name}.png\"\n",
    "single_node_response_link = f\"test_battery_results/{model.display_name}/Single_node_response {model.display_name}.png\"\n",
    "refractory_curve_link = f\"test_battery_results/{model.display_name}/Refractory_curve {model.display_name}.png\"\n",
    "post_stimulus_time_histogram_link = f\"test_battery_results/{model.display_name}/PSTH {model.display_name}.png\"\n",
    "\n",
    "# =============================================================================\n",
    "# Add experimental results to tables\n",
    "# =============================================================================\n",
    "##### Strength duration data\n",
    "strength_duration_data = strength_duration_data.transpose()\n",
    "strength_duration_data = strength_duration_data.rename(index = str, columns={0:\"model\"})\n",
    "strength_duration_data[\"Van den Honert and Stypulkowski 1984\"] = [\"95.8\", \"247\"]\n",
    "\n",
    "##### Relative spread of thresholds\n",
    "relative_spreads = relative_spreads.rename(index = str, columns={\"relative spread\":\"model\"})\n",
    "relative_spreads[\"experiments\"] = [\"6.3%\",\"5-10%\",\"12%\",\"11%\"]\n",
    "relative_spreads[\"reference\"] = [\"Miller et al. 1999\",\"Dynes 1996\",\"Javel et al. 1987\",\"Javel et al. 1987\"]\n",
    "relative_spreads = relative_spreads.set_index([\"phase duration\",\"pulse form\"])\n",
    "\n",
    "##### Conduction velocity\n",
    "conduction_velocity_table = conduction_velocity_table.transpose()\n",
    "conduction_velocity_table = conduction_velocity_table.rename(index = str, columns={0:\"model\"})\n",
    "if hasattr(model, \"index_soma\"):\n",
    "    conduction_velocity_table[\"Hursh 1939\"] = [\"-\",\"6\",\"-\",\"-\"]\n",
    "    if model.diameter_dendrite < 12*um:\n",
    "        dendrite_ratio = 4.6\n",
    "    else:\n",
    "        dendrite_ratio = 5.66\n",
    "    conduction_velocity_table[\"Boyd and Kalu 1979\"] = [\"-\",f\"{dendrite_ratio}\",\"-\",\"-\"]\n",
    "    conduction_velocity_table[\"Czèh et al 1976\"] = [\"-\",\"-\",\"-\",\"v_ax = 0.9*v_den-6.9*m/s\"]\n",
    "\n",
    "else:\n",
    "    conduction_velocity_table[\"Hursh 1939\"] = [\"-\",\"6\"]\n",
    "    if model.diameter_fiber < 12*um:\n",
    "        dendrite_ratio = 4.6\n",
    "    else:\n",
    "        dendrite_ratio = 5.66\n",
    "    conduction_velocity_table[\"Boyd and Kalu 1979\"] = [\"-\",f\"{dendrite_ratio}\"]\n",
    "\n",
    "##### Latency and jitter\n",
    "latency_jitter = node_response_data_summary[[\"phase duration (us)\", \"pulse form\", \"stimulus amplitude level\", \"latency (ms)\",  \"jitter (ms)\"]]\n",
    "latency_jitter = latency_jitter.rename(index = str, columns={\"latency (ms)\":\"latency (us)\", \"jitter (ms)\":\"jitter (us)\"})\n",
    "latency_jitter = pd.melt(latency_jitter, id_vars=[\"phase duration (us)\", \"pulse form\", \"stimulus amplitude level\"], value_vars=[\"latency (us)\",  \"jitter (us)\"])\n",
    "latency_jitter[\"value\"] = latency_jitter[\"value\"]*1000\n",
    "\n",
    "latency_jitter_th = latency_jitter[latency_jitter[\"stimulus amplitude level\"] == \"threshold\"]\n",
    "latency_jitter_th = latency_jitter_th.rename(index = str, columns={\"value\":\"model (threshold)\"})\n",
    "\n",
    "latency_jitter_2th = latency_jitter[latency_jitter[\"stimulus amplitude level\"] == \"2*threshold\"]\n",
    "latency_jitter_2th = latency_jitter_2th.rename(index = str, columns={\"value\":\"model (2*threshold)\"})\n",
    "\n",
    "latency_jitter = latency_jitter.drop(columns = [\"stimulus amplitude level\", \"value\"]).drop_duplicates()\n",
    "latency_jitter[\"model (threshold)\"] = latency_jitter_th[\"model (threshold)\"].tolist()\n",
    "latency_jitter[\"model (2*threshold)\"] = latency_jitter_2th[\"model (2*threshold)\"].tolist()\n",
    "latency_jitter = latency_jitter.sort_values(by=[\"pulse form\", \"phase duration (us)\"], ascending = [False, True])\n",
    "\n",
    "latency_jitter[\"Miller et al. 1999\"] = [\"650\", \"100\", \"-\", \"-\", \"-\", \"-\", \"-\", \"-\"]\n",
    "latency_jitter[\"Van den Honert and Stypulkowski 1984 (threshold)\"] = [\"-\", \"-\", \"-\", \"-\", \"685\", \"352\", \"-\", \"-\"]\n",
    "latency_jitter[\"Van den Honert and Stypulkowski 1984 (2*threshold)\"] = [\"-\", \"-\", \"-\", \"-\", \"352\", \"8\", \"-\", \"-\"]\n",
    "latency_jitter[\"Hartmann and al. 1984\"] = [\"-\", \"-\", \"-\", \"-\", \"-\", \"-\", \"300-400\", \"-\"]\n",
    "latency_jitter[\"Cartee et al. 2000 (threshold)\"] = [\"-\", \"-\", \"440\", \"80\", \"-\", \"-\", \"-\", \"-\"]\n",
    "\n",
    "latency_jitter = latency_jitter.rename(index = str, columns={\"variable\":\"property\"})\n",
    "latency_jitter = latency_jitter.set_index([\"phase duration (us)\",\"pulse form\", \"property\"])\n",
    "\n",
    "##### AP shape\n",
    "AP_shape = node_response_data_summary[[\"AP height (mV)\", \"rise time (ms)\", \"fall time (ms)\", \"AP duration (ms)\"]].iloc[[5]].transpose()\n",
    "AP_shape = AP_shape.rename(index = str, columns={5:\"model\"})\n",
    "\n",
    "t_rise = round(-0.000625*conduction_velocity_table[\"model\"].iloc[[0]] + 0.14, 3).tolist()[0]\n",
    "t_fall = round(-0.002083*conduction_velocity_table[\"model\"].iloc[[0]] + 0.3933, 3).tolist()[0]\n",
    "AP_duration = t_rise + t_fall\n",
    "AP_shape[\"Paintal 1965\"] = [\"-\", t_rise, t_fall, AP_duration]\n",
    "\n",
    "##### Refractory periods\n",
    "absolute_refractory_periods = refractory_table.drop(columns = [\"relative refractory period (ms)\"])\n",
    "absolute_refractory_periods = absolute_refractory_periods.rename(index = str, columns={\"absolute refractory period (ms)\":\"ARP model (us)\"})\n",
    "absolute_refractory_periods[\"ARP model (us)\"] = absolute_refractory_periods[\"ARP model (us)\"]*1000\n",
    "absolute_refractory_periods[\"ARP Experiments (us)\"] = [\"334\",\"300\",\"500-700\",\"400-500\",\"-\"]\n",
    "absolute_refractory_periods[\"reference\"] = [\"Miller et al. 2001\",\"Stypulkowski and Van den Honert 1984\",\"Dynes 1996\",\"Brown and Abbas 1990\", \"-\"]\n",
    "absolute_refractory_periods = absolute_refractory_periods[absolute_refractory_periods[\"ARP Experiments (us)\"] != \"-\"]\n",
    "absolute_refractory_periods = absolute_refractory_periods.set_index([\"phase duration (us)\",\"pulse form\"])\n",
    "\n",
    "relative_refractory_periods = refractory_table.drop(columns = [\"absolute refractory period (ms)\"])\n",
    "relative_refractory_periods = relative_refractory_periods.rename(index = str, columns={\"relative refractory period (ms)\":\"RRP model (ms)\"})\n",
    "relative_refractory_periods[\"RRP Experiments (ms)\"] = [\"-\",\"3-4; 4-5\",\"5\",\"-\",\"5\"]\n",
    "relative_refractory_periods[\"reference\"] = [\"-\",\"Stypulkowski and Van den Honert 1984; Cartee et al. 2000\",\"Dynes 1996\",\"-\", \"Hartmann et al. 1984\"]\n",
    "relative_refractory_periods = relative_refractory_periods[relative_refractory_periods[\"RRP Experiments (ms)\"] != \"-\"]\n",
    "relative_refractory_periods = relative_refractory_periods.set_index([\"phase duration (us)\",\"pulse form\"])\n"
   ]
  },
  {
   "cell_type": "code",
   "execution_count": 230,
   "metadata": {},
   "outputs": [
    {
     "data": {
      "text/markdown": [
       "# Rattay et al. 2001: Test battery results"
      ],
      "text/plain": [
       "<IPython.core.display.Markdown object>"
      ]
     },
     "execution_count": 230,
     "metadata": {},
     "output_type": "execute_result"
    }
   ],
   "source": [
    "md(\"# %s: Test battery results\"%(model.display_name))"
   ]
  },
  {
   "cell_type": "markdown",
   "metadata": {},
   "source": [
    "## 1. Strength duration curve"
   ]
  },
  {
   "cell_type": "code",
   "execution_count": 231,
   "metadata": {},
   "outputs": [
    {
     "data": {
      "text/markdown": [
       "![title](test_battery_results/Rattay et al. 2001/Strength_duration_curve Rattay et al. 2001.png)"
      ],
      "text/plain": [
       "<IPython.core.display.Markdown object>"
      ]
     },
     "execution_count": 231,
     "metadata": {},
     "output_type": "execute_result"
    }
   ],
   "source": [
    "md(\"![title](%s)\"%(strength_duration_curve_link))"
   ]
  },
  {
   "cell_type": "code",
   "execution_count": 232,
   "metadata": {},
   "outputs": [
    {
     "data": {
      "text/html": [
       "<div>\n",
       "<style scoped>\n",
       "    .dataframe tbody tr th:only-of-type {\n",
       "        vertical-align: middle;\n",
       "    }\n",
       "\n",
       "    .dataframe tbody tr th {\n",
       "        vertical-align: top;\n",
       "    }\n",
       "\n",
       "    .dataframe thead th {\n",
       "        text-align: right;\n",
       "    }\n",
       "</style>\n",
       "<table border=\"1\" class=\"dataframe\">\n",
       "  <thead>\n",
       "    <tr style=\"text-align: right;\">\n",
       "      <th></th>\n",
       "      <th>model</th>\n",
       "      <th>Van den Honert and Stypulkowski 1984</th>\n",
       "    </tr>\n",
       "  </thead>\n",
       "  <tbody>\n",
       "    <tr>\n",
       "      <th>rheobase (uA)</th>\n",
       "      <td>0.303</td>\n",
       "      <td>95.8</td>\n",
       "    </tr>\n",
       "    <tr>\n",
       "      <th>chronaxie (us)</th>\n",
       "      <td>155.300</td>\n",
       "      <td>247</td>\n",
       "    </tr>\n",
       "  </tbody>\n",
       "</table>\n",
       "</div>"
      ],
      "text/plain": [
       "                  model Van den Honert and Stypulkowski 1984\n",
       "rheobase (uA)     0.303                                 95.8\n",
       "chronaxie (us)  155.300                                  247"
      ]
     },
     "execution_count": 232,
     "metadata": {},
     "output_type": "execute_result"
    }
   ],
   "source": [
    "strength_duration_data"
   ]
  },
  {
   "cell_type": "markdown",
   "metadata": {},
   "source": [
    "## 2. Relative spread of thresholds"
   ]
  },
  {
   "cell_type": "code",
   "execution_count": 233,
   "metadata": {},
   "outputs": [
    {
     "data": {
      "text/markdown": [
       "![title](test_battery_results/Rattay et al. 2001/Relative_spreads_plot Rattay et al. 2001.png)"
      ],
      "text/plain": [
       "<IPython.core.display.Markdown object>"
      ]
     },
     "execution_count": 233,
     "metadata": {},
     "output_type": "execute_result"
    }
   ],
   "source": [
    "md(\"![title](%s)\"%(relative_spread_plot_link))"
   ]
  },
  {
   "cell_type": "code",
   "execution_count": 234,
   "metadata": {},
   "outputs": [
    {
     "data": {
      "text/html": [
       "<div>\n",
       "<style scoped>\n",
       "    .dataframe tbody tr th:only-of-type {\n",
       "        vertical-align: middle;\n",
       "    }\n",
       "\n",
       "    .dataframe tbody tr th {\n",
       "        vertical-align: top;\n",
       "    }\n",
       "\n",
       "    .dataframe thead th {\n",
       "        text-align: right;\n",
       "    }\n",
       "</style>\n",
       "<table border=\"1\" class=\"dataframe\">\n",
       "  <thead>\n",
       "    <tr style=\"text-align: right;\">\n",
       "      <th></th>\n",
       "      <th></th>\n",
       "      <th>model</th>\n",
       "      <th>experiments</th>\n",
       "      <th>reference</th>\n",
       "    </tr>\n",
       "    <tr>\n",
       "      <th>phase duration</th>\n",
       "      <th>pulse form</th>\n",
       "      <th></th>\n",
       "      <th></th>\n",
       "      <th></th>\n",
       "    </tr>\n",
       "  </thead>\n",
       "  <tbody>\n",
       "    <tr>\n",
       "      <th>40. us</th>\n",
       "      <th>mono</th>\n",
       "      <td>4.41%</td>\n",
       "      <td>6.3%</td>\n",
       "      <td>Miller et al. 1999</td>\n",
       "    </tr>\n",
       "    <tr>\n",
       "      <th>100. us</th>\n",
       "      <th>mono</th>\n",
       "      <td>10.1%</td>\n",
       "      <td>5-10%</td>\n",
       "      <td>Dynes 1996</td>\n",
       "    </tr>\n",
       "    <tr>\n",
       "      <th>200. us</th>\n",
       "      <th>bi</th>\n",
       "      <td>8.08%</td>\n",
       "      <td>12%</td>\n",
       "      <td>Javel et al. 1987</td>\n",
       "    </tr>\n",
       "    <tr>\n",
       "      <th>0.4 ms</th>\n",
       "      <th>bi</th>\n",
       "      <td>10.41%</td>\n",
       "      <td>11%</td>\n",
       "      <td>Javel et al. 1987</td>\n",
       "    </tr>\n",
       "  </tbody>\n",
       "</table>\n",
       "</div>"
      ],
      "text/plain": [
       "                            model experiments           reference\n",
       "phase duration pulse form                                        \n",
       "40. us         mono         4.41%        6.3%  Miller et al. 1999\n",
       "100. us        mono         10.1%       5-10%          Dynes 1996\n",
       "200. us        bi           8.08%         12%   Javel et al. 1987\n",
       "0.4 ms         bi          10.41%         11%   Javel et al. 1987"
      ]
     },
     "execution_count": 234,
     "metadata": {},
     "output_type": "execute_result"
    }
   ],
   "source": [
    "relative_spreads"
   ]
  },
  {
   "cell_type": "markdown",
   "metadata": {},
   "source": [
    "## 3. Conduction velocity"
   ]
  },
  {
   "cell_type": "code",
   "execution_count": 235,
   "metadata": {},
   "outputs": [
    {
     "data": {
      "text/html": [
       "<div>\n",
       "<style scoped>\n",
       "    .dataframe tbody tr th:only-of-type {\n",
       "        vertical-align: middle;\n",
       "    }\n",
       "\n",
       "    .dataframe tbody tr th {\n",
       "        vertical-align: top;\n",
       "    }\n",
       "\n",
       "    .dataframe thead th {\n",
       "        text-align: right;\n",
       "    }\n",
       "</style>\n",
       "<table border=\"1\" class=\"dataframe\">\n",
       "  <thead>\n",
       "    <tr style=\"text-align: right;\">\n",
       "      <th></th>\n",
       "      <th>model</th>\n",
       "      <th>Hursh 1939</th>\n",
       "      <th>Boyd and Kalu 1979</th>\n",
       "      <th>Czèh et al 1976</th>\n",
       "    </tr>\n",
       "  </thead>\n",
       "  <tbody>\n",
       "    <tr>\n",
       "      <th>velocity dendrite (m/s)</th>\n",
       "      <td>6.839</td>\n",
       "      <td>-</td>\n",
       "      <td>-</td>\n",
       "      <td>-</td>\n",
       "    </tr>\n",
       "    <tr>\n",
       "      <th>velocity/diameter dendrite</th>\n",
       "      <td>4.070</td>\n",
       "      <td>6</td>\n",
       "      <td>4.6</td>\n",
       "      <td>-</td>\n",
       "    </tr>\n",
       "    <tr>\n",
       "      <th>velocity axon (m/s)</th>\n",
       "      <td>12.840</td>\n",
       "      <td>-</td>\n",
       "      <td>-</td>\n",
       "      <td>-</td>\n",
       "    </tr>\n",
       "    <tr>\n",
       "      <th>velocity/diameter axon</th>\n",
       "      <td>3.820</td>\n",
       "      <td>-</td>\n",
       "      <td>-</td>\n",
       "      <td>v_ax = 0.9*v_den-6.9*m/s</td>\n",
       "    </tr>\n",
       "  </tbody>\n",
       "</table>\n",
       "</div>"
      ],
      "text/plain": [
       "                             model Hursh 1939 Boyd and Kalu 1979           Czèh et al 1976\n",
       "velocity dendrite (m/s)      6.839          -                  -                         -\n",
       "velocity/diameter dendrite   4.070          6                4.6                         -\n",
       "velocity axon (m/s)         12.840          -                  -                         -\n",
       "velocity/diameter axon       3.820          -                  -  v_ax = 0.9*v_den-6.9*m/s"
      ]
     },
     "execution_count": 235,
     "metadata": {},
     "output_type": "execute_result"
    }
   ],
   "source": [
    "conduction_velocity_table"
   ]
  },
  {
   "cell_type": "markdown",
   "metadata": {},
   "source": [
    "## 4. Single node response properties"
   ]
  },
  {
   "cell_type": "code",
   "execution_count": 236,
   "metadata": {},
   "outputs": [
    {
     "data": {
      "text/markdown": [
       "![title](test_battery_results/Rattay et al. 2001/Single_node_response Rattay et al. 2001.png)"
      ],
      "text/plain": [
       "<IPython.core.display.Markdown object>"
      ]
     },
     "execution_count": 236,
     "metadata": {},
     "output_type": "execute_result"
    }
   ],
   "source": [
    "md(\"![title](%s)\"%(single_node_response_link))"
   ]
  },
  {
   "cell_type": "markdown",
   "metadata": {},
   "source": [
    "### 4.1 Action potential shape"
   ]
  },
  {
   "cell_type": "code",
   "execution_count": 237,
   "metadata": {},
   "outputs": [
    {
     "data": {
      "text/html": [
       "<div>\n",
       "<style scoped>\n",
       "    .dataframe tbody tr th:only-of-type {\n",
       "        vertical-align: middle;\n",
       "    }\n",
       "\n",
       "    .dataframe tbody tr th {\n",
       "        vertical-align: top;\n",
       "    }\n",
       "\n",
       "    .dataframe thead th {\n",
       "        text-align: right;\n",
       "    }\n",
       "</style>\n",
       "<table border=\"1\" class=\"dataframe\">\n",
       "  <thead>\n",
       "    <tr style=\"text-align: right;\">\n",
       "      <th></th>\n",
       "      <th>model</th>\n",
       "      <th>Paintal 1965</th>\n",
       "    </tr>\n",
       "  </thead>\n",
       "  <tbody>\n",
       "    <tr>\n",
       "      <th>AP height (mV)</th>\n",
       "      <td>87.200</td>\n",
       "      <td>-</td>\n",
       "    </tr>\n",
       "    <tr>\n",
       "      <th>rise time (ms)</th>\n",
       "      <td>0.110</td>\n",
       "      <td>0.136</td>\n",
       "    </tr>\n",
       "    <tr>\n",
       "      <th>fall time (ms)</th>\n",
       "      <td>0.196</td>\n",
       "      <td>0.379</td>\n",
       "    </tr>\n",
       "    <tr>\n",
       "      <th>AP duration (ms)</th>\n",
       "      <td>0.307</td>\n",
       "      <td>0.515</td>\n",
       "    </tr>\n",
       "  </tbody>\n",
       "</table>\n",
       "</div>"
      ],
      "text/plain": [
       "                   model Paintal 1965\n",
       "AP height (mV)    87.200            -\n",
       "rise time (ms)     0.110        0.136\n",
       "fall time (ms)     0.196        0.379\n",
       "AP duration (ms)   0.307        0.515"
      ]
     },
     "execution_count": 237,
     "metadata": {},
     "output_type": "execute_result"
    }
   ],
   "source": [
    "AP_shape"
   ]
  },
  {
   "cell_type": "markdown",
   "metadata": {},
   "source": [
    "### 4.2 Latency and jitter"
   ]
  },
  {
   "cell_type": "code",
   "execution_count": 238,
   "metadata": {},
   "outputs": [
    {
     "data": {
      "text/html": [
       "<div>\n",
       "<style scoped>\n",
       "    .dataframe tbody tr th:only-of-type {\n",
       "        vertical-align: middle;\n",
       "    }\n",
       "\n",
       "    .dataframe tbody tr th {\n",
       "        vertical-align: top;\n",
       "    }\n",
       "\n",
       "    .dataframe thead th {\n",
       "        text-align: right;\n",
       "    }\n",
       "</style>\n",
       "<table border=\"1\" class=\"dataframe\">\n",
       "  <thead>\n",
       "    <tr style=\"text-align: right;\">\n",
       "      <th></th>\n",
       "      <th></th>\n",
       "      <th></th>\n",
       "      <th>model (threshold)</th>\n",
       "      <th>model (2*threshold)</th>\n",
       "      <th>Miller et al. 1999</th>\n",
       "      <th>Van den Honert and Stypulkowski 1984 (threshold)</th>\n",
       "      <th>Van den Honert and Stypulkowski 1984 (2*threshold)</th>\n",
       "      <th>Hartmann and al. 1984</th>\n",
       "      <th>Cartee et al. 2000 (threshold)</th>\n",
       "    </tr>\n",
       "    <tr>\n",
       "      <th>phase duration (us)</th>\n",
       "      <th>pulse form</th>\n",
       "      <th>property</th>\n",
       "      <th></th>\n",
       "      <th></th>\n",
       "      <th></th>\n",
       "      <th></th>\n",
       "      <th></th>\n",
       "      <th></th>\n",
       "      <th></th>\n",
       "    </tr>\n",
       "  </thead>\n",
       "  <tbody>\n",
       "    <tr>\n",
       "      <th rowspan=\"2\" valign=\"top\">40.0</th>\n",
       "      <th rowspan=\"2\" valign=\"top\">monophasic</th>\n",
       "      <th>latency (us)</th>\n",
       "      <td>533.3</td>\n",
       "      <td>99.0</td>\n",
       "      <td>650</td>\n",
       "      <td>-</td>\n",
       "      <td>-</td>\n",
       "      <td>-</td>\n",
       "      <td>-</td>\n",
       "    </tr>\n",
       "    <tr>\n",
       "      <th>jitter (us)</th>\n",
       "      <td>128.8</td>\n",
       "      <td>3.2</td>\n",
       "      <td>100</td>\n",
       "      <td>-</td>\n",
       "      <td>-</td>\n",
       "      <td>-</td>\n",
       "      <td>-</td>\n",
       "    </tr>\n",
       "    <tr>\n",
       "      <th rowspan=\"2\" valign=\"top\">50.0</th>\n",
       "      <th rowspan=\"2\" valign=\"top\">monophasic</th>\n",
       "      <th>latency (us)</th>\n",
       "      <td>552.0</td>\n",
       "      <td>109.0</td>\n",
       "      <td>-</td>\n",
       "      <td>-</td>\n",
       "      <td>-</td>\n",
       "      <td>-</td>\n",
       "      <td>440</td>\n",
       "    </tr>\n",
       "    <tr>\n",
       "      <th>jitter (us)</th>\n",
       "      <td>41.6</td>\n",
       "      <td>3.2</td>\n",
       "      <td>-</td>\n",
       "      <td>-</td>\n",
       "      <td>-</td>\n",
       "      <td>-</td>\n",
       "      <td>80</td>\n",
       "    </tr>\n",
       "    <tr>\n",
       "      <th rowspan=\"2\" valign=\"top\">100.0</th>\n",
       "      <th rowspan=\"2\" valign=\"top\">monophasic</th>\n",
       "      <th>latency (us)</th>\n",
       "      <td>460.0</td>\n",
       "      <td>141.5</td>\n",
       "      <td>-</td>\n",
       "      <td>685</td>\n",
       "      <td>352</td>\n",
       "      <td>-</td>\n",
       "      <td>-</td>\n",
       "    </tr>\n",
       "    <tr>\n",
       "      <th>jitter (us)</th>\n",
       "      <td>76.0</td>\n",
       "      <td>3.4</td>\n",
       "      <td>-</td>\n",
       "      <td>352</td>\n",
       "      <td>8</td>\n",
       "      <td>-</td>\n",
       "      <td>-</td>\n",
       "    </tr>\n",
       "    <tr>\n",
       "      <th rowspan=\"2\" valign=\"top\">200.0</th>\n",
       "      <th rowspan=\"2\" valign=\"top\">biphasic</th>\n",
       "      <th>latency (us)</th>\n",
       "      <td>483.0</td>\n",
       "      <td>183.5</td>\n",
       "      <td>-</td>\n",
       "      <td>-</td>\n",
       "      <td>-</td>\n",
       "      <td>300-400</td>\n",
       "      <td>-</td>\n",
       "    </tr>\n",
       "    <tr>\n",
       "      <th>jitter (us)</th>\n",
       "      <td>107.4</td>\n",
       "      <td>4.7</td>\n",
       "      <td>-</td>\n",
       "      <td>-</td>\n",
       "      <td>-</td>\n",
       "      <td>-</td>\n",
       "      <td>-</td>\n",
       "    </tr>\n",
       "  </tbody>\n",
       "</table>\n",
       "</div>"
      ],
      "text/plain": [
       "                                             model (threshold)  model (2*threshold) Miller et al. 1999  \\\n",
       "phase duration (us) pulse form property                                                                  \n",
       "40.0                monophasic latency (us)              533.3                 99.0                650   \n",
       "                               jitter (us)               128.8                  3.2                100   \n",
       "50.0                monophasic latency (us)              552.0                109.0                  -   \n",
       "                               jitter (us)                41.6                  3.2                  -   \n",
       "100.0               monophasic latency (us)              460.0                141.5                  -   \n",
       "                               jitter (us)                76.0                  3.4                  -   \n",
       "200.0               biphasic   latency (us)              483.0                183.5                  -   \n",
       "                               jitter (us)               107.4                  4.7                  -   \n",
       "\n",
       "                                            Van den Honert and Stypulkowski 1984 (threshold)  \\\n",
       "phase duration (us) pulse form property                                                        \n",
       "40.0                monophasic latency (us)                                                -   \n",
       "                               jitter (us)                                                 -   \n",
       "50.0                monophasic latency (us)                                                -   \n",
       "                               jitter (us)                                                 -   \n",
       "100.0               monophasic latency (us)                                              685   \n",
       "                               jitter (us)                                               352   \n",
       "200.0               biphasic   latency (us)                                                -   \n",
       "                               jitter (us)                                                 -   \n",
       "\n",
       "                                            Van den Honert and Stypulkowski 1984 (2*threshold)  \\\n",
       "phase duration (us) pulse form property                                                          \n",
       "40.0                monophasic latency (us)                                                  -   \n",
       "                               jitter (us)                                                   -   \n",
       "50.0                monophasic latency (us)                                                  -   \n",
       "                               jitter (us)                                                   -   \n",
       "100.0               monophasic latency (us)                                                352   \n",
       "                               jitter (us)                                                   8   \n",
       "200.0               biphasic   latency (us)                                                  -   \n",
       "                               jitter (us)                                                   -   \n",
       "\n",
       "                                            Hartmann and al. 1984 Cartee et al. 2000 (threshold)  \n",
       "phase duration (us) pulse form property                                                           \n",
       "40.0                monophasic latency (us)                     -                              -  \n",
       "                               jitter (us)                      -                              -  \n",
       "50.0                monophasic latency (us)                     -                            440  \n",
       "                               jitter (us)                      -                             80  \n",
       "100.0               monophasic latency (us)                     -                              -  \n",
       "                               jitter (us)                      -                              -  \n",
       "200.0               biphasic   latency (us)               300-400                              -  \n",
       "                               jitter (us)                      -                              -  "
      ]
     },
     "execution_count": 238,
     "metadata": {},
     "output_type": "execute_result"
    }
   ],
   "source": [
    "latency_jitter"
   ]
  },
  {
   "cell_type": "markdown",
   "metadata": {},
   "source": [
    "## 5. Recfractory properties"
   ]
  },
  {
   "cell_type": "code",
   "execution_count": 239,
   "metadata": {},
   "outputs": [
    {
     "data": {
      "text/markdown": [
       "![title](test_battery_results/Rattay et al. 2001/Refractory_curve Rattay et al. 2001.png)"
      ],
      "text/plain": [
       "<IPython.core.display.Markdown object>"
      ]
     },
     "execution_count": 239,
     "metadata": {},
     "output_type": "execute_result"
    }
   ],
   "source": [
    "md(\"![title](%s)\"%(refractory_curve_link))"
   ]
  },
  {
   "cell_type": "markdown",
   "metadata": {},
   "source": [
    "### 5.1 Absolute refractory periods"
   ]
  },
  {
   "cell_type": "code",
   "execution_count": 240,
   "metadata": {},
   "outputs": [
    {
     "data": {
      "text/html": [
       "<div>\n",
       "<style scoped>\n",
       "    .dataframe tbody tr th:only-of-type {\n",
       "        vertical-align: middle;\n",
       "    }\n",
       "\n",
       "    .dataframe tbody tr th {\n",
       "        vertical-align: top;\n",
       "    }\n",
       "\n",
       "    .dataframe thead th {\n",
       "        text-align: right;\n",
       "    }\n",
       "</style>\n",
       "<table border=\"1\" class=\"dataframe\">\n",
       "  <thead>\n",
       "    <tr style=\"text-align: right;\">\n",
       "      <th></th>\n",
       "      <th></th>\n",
       "      <th>ARP model (us)</th>\n",
       "      <th>ARP Experiments (us)</th>\n",
       "      <th>reference</th>\n",
       "    </tr>\n",
       "    <tr>\n",
       "      <th>phase duration (us)</th>\n",
       "      <th>pulse form</th>\n",
       "      <th></th>\n",
       "      <th></th>\n",
       "      <th></th>\n",
       "    </tr>\n",
       "  </thead>\n",
       "  <tbody>\n",
       "    <tr>\n",
       "      <th>40.0</th>\n",
       "      <th>monophasic</th>\n",
       "      <td>1393.0</td>\n",
       "      <td>334</td>\n",
       "      <td>Miller et al. 2001</td>\n",
       "    </tr>\n",
       "    <tr>\n",
       "      <th>50.0</th>\n",
       "      <th>monophasic</th>\n",
       "      <td>1393.0</td>\n",
       "      <td>300</td>\n",
       "      <td>Stypulkowski and Van den Honert 1984</td>\n",
       "    </tr>\n",
       "    <tr>\n",
       "      <th>100.0</th>\n",
       "      <th>monophasic</th>\n",
       "      <td>1353.0</td>\n",
       "      <td>500-700</td>\n",
       "      <td>Dynes 1996</td>\n",
       "    </tr>\n",
       "    <tr>\n",
       "      <th>50.0</th>\n",
       "      <th>biphasic</th>\n",
       "      <td>1383.0</td>\n",
       "      <td>400-500</td>\n",
       "      <td>Brown and Abbas 1990</td>\n",
       "    </tr>\n",
       "  </tbody>\n",
       "</table>\n",
       "</div>"
      ],
      "text/plain": [
       "                                ARP model (us) ARP Experiments (us)                             reference\n",
       "phase duration (us) pulse form                                                                           \n",
       "40.0                monophasic          1393.0                  334                    Miller et al. 2001\n",
       "50.0                monophasic          1393.0                  300  Stypulkowski and Van den Honert 1984\n",
       "100.0               monophasic          1353.0              500-700                            Dynes 1996\n",
       "50.0                biphasic            1383.0              400-500                  Brown and Abbas 1990"
      ]
     },
     "execution_count": 240,
     "metadata": {},
     "output_type": "execute_result"
    }
   ],
   "source": [
    "absolute_refractory_periods"
   ]
  },
  {
   "cell_type": "markdown",
   "metadata": {},
   "source": [
    "### 5.2 Relative refractory periods"
   ]
  },
  {
   "cell_type": "code",
   "execution_count": 241,
   "metadata": {},
   "outputs": [
    {
     "data": {
      "text/html": [
       "<div>\n",
       "<style scoped>\n",
       "    .dataframe tbody tr th:only-of-type {\n",
       "        vertical-align: middle;\n",
       "    }\n",
       "\n",
       "    .dataframe tbody tr th {\n",
       "        vertical-align: top;\n",
       "    }\n",
       "\n",
       "    .dataframe thead th {\n",
       "        text-align: right;\n",
       "    }\n",
       "</style>\n",
       "<table border=\"1\" class=\"dataframe\">\n",
       "  <thead>\n",
       "    <tr style=\"text-align: right;\">\n",
       "      <th></th>\n",
       "      <th></th>\n",
       "      <th>RRP model (ms)</th>\n",
       "      <th>RRP Experiments (ms)</th>\n",
       "      <th>reference</th>\n",
       "    </tr>\n",
       "    <tr>\n",
       "      <th>phase duration (us)</th>\n",
       "      <th>pulse form</th>\n",
       "      <th></th>\n",
       "      <th></th>\n",
       "      <th></th>\n",
       "    </tr>\n",
       "  </thead>\n",
       "  <tbody>\n",
       "    <tr>\n",
       "      <th>50.0</th>\n",
       "      <th>monophasic</th>\n",
       "      <td>1.478</td>\n",
       "      <td>3-4; 4-5</td>\n",
       "      <td>Stypulkowski and Van den Honert 1984; Cartee e...</td>\n",
       "    </tr>\n",
       "    <tr>\n",
       "      <th>100.0</th>\n",
       "      <th>monophasic</th>\n",
       "      <td>1.468</td>\n",
       "      <td>5</td>\n",
       "      <td>Dynes 1996</td>\n",
       "    </tr>\n",
       "    <tr>\n",
       "      <th>200.0</th>\n",
       "      <th>biphasic</th>\n",
       "      <td>1.188</td>\n",
       "      <td>5</td>\n",
       "      <td>Hartmann et al. 1984</td>\n",
       "    </tr>\n",
       "  </tbody>\n",
       "</table>\n",
       "</div>"
      ],
      "text/plain": [
       "                                RRP model (ms) RRP Experiments (ms)  \\\n",
       "phase duration (us) pulse form                                        \n",
       "50.0                monophasic           1.478             3-4; 4-5   \n",
       "100.0               monophasic           1.468                    5   \n",
       "200.0               biphasic             1.188                    5   \n",
       "\n",
       "                                                                        reference  \n",
       "phase duration (us) pulse form                                                     \n",
       "50.0                monophasic  Stypulkowski and Van den Honert 1984; Cartee e...  \n",
       "100.0               monophasic                                         Dynes 1996  \n",
       "200.0               biphasic                                 Hartmann et al. 1984  "
      ]
     },
     "execution_count": 241,
     "metadata": {},
     "output_type": "execute_result"
    }
   ],
   "source": [
    "relative_refractory_periods"
   ]
  },
  {
   "cell_type": "markdown",
   "metadata": {},
   "source": [
    "## 6. Post-stimulus time histogramm"
   ]
  },
  {
   "cell_type": "code",
   "execution_count": 242,
   "metadata": {},
   "outputs": [
    {
     "data": {
      "text/markdown": [
       "![title](test_battery_results/Rattay et al. 2001/PSTH Rattay et al. 2001.png)"
      ],
      "text/plain": [
       "<IPython.core.display.Markdown object>"
      ]
     },
     "execution_count": 242,
     "metadata": {},
     "output_type": "execute_result"
    }
   ],
   "source": [
    "md(\"![title](%s)\"%(post_stimulus_time_histogram_link))"
   ]
  }
 ],
 "metadata": {
  "kernelspec": {
   "display_name": "Python 3",
   "language": "python",
   "name": "python3"
  },
  "language_info": {
   "codemirror_mode": {
    "name": "ipython",
    "version": 3
   },
   "file_extension": ".py",
   "mimetype": "text/x-python",
   "name": "python",
   "nbconvert_exporter": "python",
   "pygments_lexer": "ipython3",
   "version": "3.6.4"
  }
 },
 "nbformat": 4,
 "nbformat_minor": 2
}
